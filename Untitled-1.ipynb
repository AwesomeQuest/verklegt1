{
 "cells": [
  {
   "cell_type": "code",
   "execution_count": 2,
   "metadata": {},
   "outputs": [
    {
     "data": {
      "text/latex": [
       "\\begin{equation}\n",
       "0.0042452456842952\n",
       "\\end{equation}\n"
      ],
      "text/plain": [
       "0.0042452456842952"
      ]
     },
     "metadata": {},
     "output_type": "display_data"
    }
   ],
   "source": [
    "using Statistics,DataFrames,CSV,Plots,Images,LsqFit,Symbolics\n",
    "plotlyjs();\n",
    "\n",
    "## Hluti 1\n",
    "hvec = [31 36 32 32 31.5 33 35 31 35 36 30].*1e-2;\n",
    "h = mean(hvec);\n",
    "dh = 0.5e-2;\n",
    "l = 122e-2;\n",
    "dl = 0.5e-2;\n",
    "\n",
    "@variables sh sl shErr slErr\n",
    "sμ = sh/sl;\n",
    "sdμ = Symbolics.findErrorFromSym(sμ)\n",
    "μ = substitute(sμ, Dict(sh => h, sl => l))\n",
    "dμ = substitute(sdμ, Dict(shErr => dh, sh => h, sl => l, slErr => dl))\n"
   ]
  },
  {
   "cell_type": "code",
   "execution_count": 3,
   "metadata": {},
   "outputs": [
    {
     "name": "stderr",
     "output_type": "stream",
     "text": [
      "WARNING: both ImageMetadata and ImageAxes export \"data\"; uses of it in module Images must be qualified\n"
     ]
    }
   ],
   "source": [
    "\n",
    "## Hluti 2\n",
    "\n",
    "# Read data\n",
    "data = [Matrix(CSV.read(\"data\" * string(i) * \"h\" * string(j) * \".txt\",DataFrame)) for i in 1:3, j in 1:2]\n",
    "# Cut out trash data\n",
    "data[1,1] = data[1,1][1:end-35,:];\n",
    "\n"
   ]
  },
  {
   "cell_type": "code",
   "execution_count": 4,
   "metadata": {},
   "outputs": [],
   "source": [
    "\n",
    "# Find extrema that aren't too small so we don't get the noisy bit at the end\n",
    "segsacc = [\n",
    "\t[\n",
    "\t\tgetindex.(findlocalminima(data[i,j][:,4] .* (data[i,j][:,4] .<  -0.7)),1) \n",
    "\t\tfor j in 1:2\n",
    "\t] \n",
    "\tfor i in 1:3\n",
    "];\n",
    "segsmax = [\n",
    "\t[\n",
    "\t\tgetindex.(findlocalmaxima(data[i,j][:,3] .* (data[i,j][:,3] .>  0.05)),1) \n",
    "\t\tfor j in 1:2\n",
    "\t] \n",
    "\tfor i in 1:3\n",
    "];\n",
    "segsmin = [\n",
    "\t[\n",
    "\t\tgetindex.(findlocalminima(data[i,j][:,3] .* (data[i,j][:,3] .< -0.05)),1) \n",
    "\t\tfor j in 1:2\n",
    "\t] \n",
    "\tfor i in 1:3\n",
    "];\n"
   ]
  },
  {
   "cell_type": "code",
   "execution_count": 5,
   "metadata": {},
   "outputs": [],
   "source": [
    "\n",
    "# Function for cleaning extrema\n",
    "function splitgroups(v,sepp)\n",
    "\tstart = firstindex(v)\n",
    "\tgroups = typeof(v)[]\n",
    "\tfor stop in [findall(diff(v) .> sepp); lastindex(v)]\n",
    "\t\tpush!(groups, @view(v[start:stop]))\n",
    "\t\tstart = stop + 1\n",
    "\tend\n",
    "\tgroups\n",
    "end\n",
    "\n",
    "# Clean extrema so only one for each peak\n",
    "seppsmax = [[39, 38] ,[39, 35], [39, 39]];\n",
    "segsmax = [\n",
    "\t[\n",
    "\t\tmaximum.(j) for j in splitgroups.(segsmax[i],seppsmax[i])\n",
    "\t] \n",
    "\tfor i in 1:3\n",
    "];\n",
    "segsmin = [[minimum.(j) for j in splitgroups.(i,30)] for i in segsmin];\n"
   ]
  },
  {
   "cell_type": "code",
   "execution_count": 6,
   "metadata": {},
   "outputs": [
    {
     "data": {
      "text/plain": [
       "539"
      ]
     },
     "metadata": {},
     "output_type": "display_data"
    }
   ],
   "source": [
    "\n",
    "# Clean singletons\n",
    "for i in 1:3\n",
    "\tfor j in 1:2\n",
    "\t\tif segsmin[i][j][end] > segsmax[i][j][end]\n",
    "\t\t\tpop!(segsmin[i][j])\n",
    "\t\tend\n",
    "\tend\n",
    "end\n",
    "\n",
    "# clean bad pairs\n",
    "popat!(segsmin[1][2],1)\n",
    "popat!(segsmax[2][2],8)\n",
    "popat!(segsmin[2][2],8)\n",
    "popat!(segsmin[2][2],7)\n",
    "\n"
   ]
  },
  {
   "cell_type": "code",
   "execution_count": 7,
   "metadata": {},
   "outputs": [],
   "source": [
    "\n",
    "##\n",
    "\n",
    "# make segment ranges from minima to maxima\n",
    "segpairs = [[[(k:segsmax[i][j][segsmax[i][j] .> k][1]) for k in segsmin[i][j]] for j in 1:2] for i in 1:3];\n",
    "\n",
    "# split them in twain about naught\n",
    "for i in eachindex(segpairs)\n",
    "\tfor j in eachindex(segpairs[i])\n",
    "\t\tnewsegvec = [];\n",
    "\t\tfor k in eachindex(segpairs[i][j])\n",
    "\t\t\tfor m in segpairs[i][j][k]\n",
    "\t\t\t\tif data[i,j][m,3] <= 0 && data[i,j][m+1,3] >= 0\n",
    "\t\t\t\t\tpush!(newsegvec, segpairs[i][j][k][1]:m, (m+1):segpairs[i][j][k][end])\n",
    "\t\t\t\tend\n",
    "\t\t\tend\n",
    "\t\tend\n",
    "\t\tsegpairs[i][j] = newsegvec;\n",
    "\tend\n",
    "end\n"
   ]
  },
  {
   "cell_type": "code",
   "execution_count": 8,
   "metadata": {},
   "outputs": [],
   "source": [
    "\n",
    "##\n",
    "\n",
    "f(x,p) = p[1].*x.+p[2];\n",
    "polynoms = [\n",
    "\t[\n",
    "\t\t[\n",
    "\t\t\tcoef(curve_fit(f, data[i,j][k,1], data[i,j][k,3], [0.5, 0.5]))\n",
    "\t\t\tfor k in segpairs[i][j]\n",
    "\t\t] for j in eachindex(segpairs[i])\n",
    "\t] for i in eachindex(segpairs)\n",
    "];\n",
    "\n",
    "\n",
    "for i in 1:3, j in 1:2\n",
    "\tplot(data[i,j][:,1],data[i,j][:,3],labels=:none)\n",
    "\tfor k in eachindex(segpairs[i][j])\n",
    "\t\tx = data[i,j][segpairs[i][j][k],1]\n",
    "\t\tplot!(x, f(x,polynoms[i][j][k]),linewidth=3,color=:red,labels=:none)\n",
    "\tend\n",
    "\t# scatter!(segsmax[i][j],data[i,j][:,3][segsmax[i][j]],color = :blue,labels=:none)\n",
    "\t# scatter!(segsmin[i][j],data[i,j][:,3][segsmin[i][j]],color = :yellow,labels=:none)\n",
    "\t# scatter!(segsacc[i][j],data[i,j][:,3][segsacc[i][j]],color = :red)\n",
    "\tsavefig(string(\"plt/fig\",i,\"-\",j))\n",
    "end\n"
   ]
  },
  {
   "cell_type": "code",
   "execution_count": null,
   "metadata": {},
   "outputs": [],
   "source": [
    "\n",
    "g = 9.8\n",
    "h2 = [4.5, 6.5]*1e-2;\n",
    "θ = [asin(h2[1]/l), asin(h2[2]/l)];\n",
    "\n",
    "calcμ(p,θ) = (p[1][1]-p[2][1])/(2g*cos(θ))\n",
    "μ_r = [\n",
    "\t[\n",
    "\t\t[\n",
    "\t\t\tcalcμ([polynoms[i][j][k-1], polynoms[i][j][k]], θ[j])\n",
    "\t\t\tfor k in eachindex(polynoms[i][j]) if k % 2 == 0\n",
    "\t\t] for j in eachindex(polynoms[i])\n",
    "\t] for i in eachindex(polynoms)\n",
    "];\n"
   ]
  }
 ],
 "metadata": {
  "kernelspec": {
   "display_name": "Julia 1.8.1",
   "language": "julia",
   "name": "julia-1.8"
  },
  "language_info": {
   "file_extension": ".jl",
   "mimetype": "application/julia",
   "name": "julia",
   "version": "1.8.1"
  },
  "orig_nbformat": 4,
  "vscode": {
   "interpreter": {
    "hash": "4d368dfe2339db7bacb626e09624c0f087a17ceaa3cd660b879a98fe4da76b4e"
   }
  }
 },
 "nbformat": 4,
 "nbformat_minor": 2
}
